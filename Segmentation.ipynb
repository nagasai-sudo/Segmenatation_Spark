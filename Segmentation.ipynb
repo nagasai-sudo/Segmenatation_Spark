{
 "cells": [
  {
   "cell_type": "markdown",
   "id": "801b060d",
   "metadata": {},
   "source": [
    "# Customer Segemenation Using RFM Analysis"
   ]
  },
  {
   "cell_type": "markdown",
   "id": "e53e6747",
   "metadata": {},
   "source": [
    "In this project, I am trying to perform RFM Analysis using the Pyspark.\n",
    "\n",
    "Dataset is user transaction data which contains view, cart, remove from cart and purchase"
   ]
  },
  {
   "cell_type": "code",
   "execution_count": 1,
   "id": "09afdb2a",
   "metadata": {},
   "outputs": [],
   "source": [
    "from pyspark.sql import SparkSession\n",
    "\n",
    "spark = SparkSession.builder.appName(\"e-CommerceSegmentation\").getOrCreate()\n",
    "\n",
    "oct_df = spark.read.format(\"csv\").option(\"header\", \"true\").load(\"2019-Oct.csv\")\n",
    "nov_df = spark.read.format(\"csv\").option(\"header\", \"true\").load(\"2019-Nov.csv\")\n",
    "dec_df = spark.read.format(\"csv\").option(\"header\", \"true\").load(\"2019-Dec.csv\")\n",
    "jan_df = spark.read.format(\"csv\").option(\"header\", \"true\").load(\"2020-Jan.csv\")\n",
    "feb_df = spark.read.format(\"csv\").option(\"header\", \"true\").load(\"2020-Feb.csv\")\n",
    "\n",
    "merged_df = oct_df.union(nov_df).union(dec_df).union(jan_df).union(feb_df)\n",
    "\n",
    "df = merged_df.sample(fraction=0.1, seed=42)"
   ]
  },
  {
   "cell_type": "code",
   "execution_count": 2,
   "id": "f3f5287a",
   "metadata": {},
   "outputs": [
    {
     "name": "stdout",
     "output_type": "stream",
     "text": [
      "root\n",
      " |-- event_time: string (nullable = true)\n",
      " |-- event_type: string (nullable = true)\n",
      " |-- product_id: string (nullable = true)\n",
      " |-- category_id: string (nullable = true)\n",
      " |-- category_code: string (nullable = true)\n",
      " |-- brand: string (nullable = true)\n",
      " |-- price: string (nullable = true)\n",
      " |-- user_id: string (nullable = true)\n",
      " |-- user_session: string (nullable = true)\n",
      "\n"
     ]
    }
   ],
   "source": [
    "df.printSchema()"
   ]
  },
  {
   "cell_type": "code",
   "execution_count": 3,
   "id": "b6f576b0",
   "metadata": {},
   "outputs": [
    {
     "name": "stdout",
     "output_type": "stream",
     "text": [
      "+--------------------+----------------+----------+-------------------+-------------+--------+-----+---------+--------------------+\n",
      "|          event_time|      event_type|product_id|        category_id|category_code|   brand|price|  user_id|        user_session|\n",
      "+--------------------+----------------+----------+-------------------+-------------+--------+-----+---------+--------------------+\n",
      "|2019-10-01 00:00:...|            cart|   5825598|1487580009445982239|         null|    null| 0.56|467916806|2f5b5546-b8cb-9ee...|\n",
      "|2019-10-01 00:00:...|            cart|   5670337|1752742615205281895|         null|    null| 2.38|546705258|3b5c65c0-bb1c-453...|\n",
      "|2019-10-01 00:00:...|            cart|   5836522|1487580013522845895|         null|nagaraku| 0.40|429681830|49e8d843-adf3-428...|\n",
      "|2019-10-01 00:01:...|remove_from_cart|   5664641|1487580011425693811|         null|    null| 0.70|429681830|49e8d843-adf3-428...|\n",
      "|2019-10-01 00:01:...|remove_from_cart|   5827373|1487580009445982239|         null|    null| 1.52|429681830|49e8d843-adf3-428...|\n",
      "+--------------------+----------------+----------+-------------------+-------------+--------+-----+---------+--------------------+\n",
      "only showing top 5 rows\n",
      "\n"
     ]
    }
   ],
   "source": [
    "df.show(5)"
   ]
  },
  {
   "cell_type": "code",
   "execution_count": 4,
   "id": "bdfab63c",
   "metadata": {},
   "outputs": [],
   "source": [
    "# Drop rows with missing values\n",
    "df = df.dropna()\n"
   ]
  },
  {
   "cell_type": "code",
   "execution_count": 5,
   "id": "e541bac6",
   "metadata": {},
   "outputs": [],
   "source": [
    "df = df.dropDuplicates()"
   ]
  },
  {
   "cell_type": "code",
   "execution_count": 6,
   "id": "cd9248af",
   "metadata": {},
   "outputs": [],
   "source": [
    "# Convert a column to a specific data type\n",
    "df = df.withColumn(\"product_id\", df[\"product_id\"].cast(\"double\"))\n",
    "df = df.withColumn(\"price\", df[\"price\"].cast(\"double\"))\n",
    "df = df.withColumn(\"user_id\", df[\"user_id\"].cast(\"double\"))\n",
    "df = df.withColumn(\"category_id\", df[\"category_id\"].cast(\"double\"))\n",
    "df = df.withColumn(\"event_time\", df[\"event_time\"].cast(\"timestamp\"))"
   ]
  },
  {
   "cell_type": "code",
   "execution_count": 7,
   "id": "a96a328a",
   "metadata": {},
   "outputs": [
    {
     "name": "stdout",
     "output_type": "stream",
     "text": [
      "root\n",
      " |-- event_time: timestamp (nullable = true)\n",
      " |-- event_type: string (nullable = true)\n",
      " |-- product_id: double (nullable = true)\n",
      " |-- category_id: double (nullable = true)\n",
      " |-- category_code: string (nullable = true)\n",
      " |-- brand: string (nullable = true)\n",
      " |-- price: double (nullable = true)\n",
      " |-- user_id: double (nullable = true)\n",
      " |-- user_session: string (nullable = true)\n",
      "\n"
     ]
    }
   ],
   "source": [
    "df.printSchema()"
   ]
  },
  {
   "cell_type": "code",
   "execution_count": 8,
   "id": "cf4378c6",
   "metadata": {},
   "outputs": [],
   "source": [
    "#Transformation"
   ]
  },
  {
   "cell_type": "code",
   "execution_count": 9,
   "id": "7d51b6ba",
   "metadata": {},
   "outputs": [
    {
     "name": "stdout",
     "output_type": "stream",
     "text": [
      "+----------------+-----+\n",
      "|      event_type|count|\n",
      "+----------------+-----+\n",
      "|        purchase| 1342|\n",
      "|            view|16805|\n",
      "|            cart| 5357|\n",
      "|remove_from_cart| 3040|\n",
      "+----------------+-----+\n",
      "\n"
     ]
    }
   ],
   "source": [
    "# Group by and count the number of events by event type:\n",
    "df.groupBy(\"event_type\").count().show()"
   ]
  },
  {
   "cell_type": "code",
   "execution_count": 10,
   "id": "bdd055ac",
   "metadata": {},
   "outputs": [
    {
     "data": {
      "text/plain": [
       "26544"
      ]
     },
     "execution_count": 10,
     "metadata": {},
     "output_type": "execute_result"
    }
   ],
   "source": [
    "df.count()"
   ]
  },
  {
   "cell_type": "code",
   "execution_count": 12,
   "id": "4d86ba4a",
   "metadata": {},
   "outputs": [
    {
     "name": "stdout",
     "output_type": "stream",
     "text": [
      "+------------+------------------+\n",
      "|     user_id|     total_revenue|\n",
      "+------------+------------------+\n",
      "| 5.5560429E8|              9.52|\n",
      "|4.69749672E8|               7.3|\n",
      "|5.64743739E8|             94.44|\n",
      "|5.65208716E8|            150.79|\n",
      "|4.84346658E8|              6.98|\n",
      "|5.72556155E8|             53.17|\n",
      "| 5.7311298E8|             53.81|\n",
      "| 4.2302953E8|            116.03|\n",
      "|4.08795242E8|            592.41|\n",
      "|5.82758484E8|118.89000000000001|\n",
      "|4.50840633E8|              1.43|\n",
      "|5.44065836E8|              3.96|\n",
      "|5.06824838E8|             24.44|\n",
      "|5.88731519E8|              1.98|\n",
      "|6.02050813E8|              6.19|\n",
      "|5.09218779E8|             82.54|\n",
      "|6.00170334E8|              7.46|\n",
      "|5.58525406E8|             94.44|\n",
      "|4.90615023E8|             24.44|\n",
      "|5.36694355E8|            131.59|\n",
      "+------------+------------------+\n",
      "only showing top 20 rows\n",
      "\n"
     ]
    }
   ],
   "source": [
    "# Calculate total revenue by customer ID:\n",
    "import pyspark.sql.functions as F\n",
    "df.groupBy(\"user_id\").agg(F.sum(\"price\").alias(\"total_revenue\")).show()\n"
   ]
  },
  {
   "cell_type": "code",
   "execution_count": 13,
   "id": "b4f4a68a",
   "metadata": {},
   "outputs": [
    {
     "name": "stdout",
     "output_type": "stream",
     "text": [
      "+--------------------+------------------+\n",
      "|       category_code|         avg_price|\n",
      "+--------------------+------------------+\n",
      "| stationery.cartrige|2.2598401354147097|\n",
      "|furniture.living_...|105.50334837545181|\n",
      "|furniture.bathroo...|34.214795230689504|\n",
      "|     accessories.bag| 61.78884520884514|\n",
      "|appliances.person...| 55.37661016949153|\n",
      "|appliances.enviro...| 10.19576923076923|\n",
      "|appliances.enviro...|51.491272969768524|\n",
      "|accessories.cosme...|14.377539682539682|\n",
      "|       apparel.glove| 7.496123238463637|\n",
      "|appliances.person...|  57.5719808306709|\n",
      "+--------------------+------------------+\n",
      "\n"
     ]
    }
   ],
   "source": [
    "#Calculate the average price by category code:\n",
    "df.groupBy(\"category_code\").agg(F.avg(\"price\").alias(\"avg_price\")).show()\n"
   ]
  },
  {
   "cell_type": "markdown",
   "id": "56145e96",
   "metadata": {},
   "source": [
    "# Events Analysis"
   ]
  },
  {
   "cell_type": "code",
   "execution_count": 15,
   "id": "9bf2c0e9",
   "metadata": {},
   "outputs": [
    {
     "name": "stdout",
     "output_type": "stream",
     "text": [
      "+----------------+-----+\n",
      "|      event_type|count|\n",
      "+----------------+-----+\n",
      "|            view|16805|\n",
      "|            cart| 5357|\n",
      "|remove_from_cart| 3040|\n",
      "|        purchase| 1342|\n",
      "+----------------+-----+\n",
      "\n"
     ]
    }
   ],
   "source": [
    "#Count the number of occurrences for each event type:\n",
    "event_count = df.groupBy(\"event_type\").count().orderBy(\"count\", ascending=False)\n",
    "event_count.show()"
   ]
  },
  {
   "cell_type": "code",
   "execution_count": 16,
   "id": "f972834f",
   "metadata": {},
   "outputs": [
    {
     "name": "stdout",
     "output_type": "stream",
     "text": [
      "+----------------+-----+------------------+\n",
      "|      event_type|count|        percentage|\n",
      "+----------------+-----+------------------+\n",
      "|            view|16805|63.309975889089806|\n",
      "|            cart| 5357|20.181585292344785|\n",
      "|remove_from_cart| 3040|11.452682338758288|\n",
      "|        purchase| 1342| 5.055756479807113|\n",
      "+----------------+-----+------------------+\n",
      "\n"
     ]
    }
   ],
   "source": [
    "# Calculate the percentage distribution of different event types:\n",
    "\n",
    "total_events = df.count()\n",
    "event_percentage = event_count.withColumn(\"percentage\", F.col(\"count\") / total_events * 100)\n",
    "event_percentage.show()\n"
   ]
  },
  {
   "cell_type": "code",
   "execution_count": 17,
   "id": "938947e7",
   "metadata": {},
   "outputs": [
    {
     "data": {
      "image/png": "[encoded data removed]",
      "text/plain": [
       "<Figure size 432x288 with 1 Axes>"
      ]
     },
     "metadata": {
      "needs_background": "light"
     },
     "output_type": "display_data"
    }
   ],
   "source": [
    "import matplotlib.pyplot as plt\n",
    "\n",
    "event_counts = event_count.toPandas()\n",
    "plt.bar(event_counts[\"event_type\"], event_counts[\"count\"])\n",
    "plt.xlabel(\"Event Type\")\n",
    "plt.ylabel(\"Count\")\n",
    "plt.title(\"Distribution of Event Types\")\n",
    "plt.show()\n"
   ]
  },
  {
   "cell_type": "code",
   "execution_count": 18,
   "id": "12427957",
   "metadata": {},
   "outputs": [
    {
     "data": {
      "image/png": "[encoded data removed]",
      "text/plain": [
       "<Figure size 432x288 with 1 Axes>"
      ]
     },
     "metadata": {},
     "output_type": "display_data"
    }
   ],
   "source": [
    "event_percentages = event_percentage.toPandas()\n",
    "plt.pie(event_percentages[\"percentage\"], labels=event_percentages[\"event_type\"], autopct='%1.1f%%')\n",
    "plt.title(\"Percentage Distribution of Event Types\")\n",
    "plt.show()\n"
   ]
  },
  {
   "cell_type": "markdown",
   "id": "39c5e663",
   "metadata": {},
   "source": [
    "# Product Category Analysis"
   ]
  },
  {
   "cell_type": "code",
   "execution_count": 19,
   "id": "78c62f4e",
   "metadata": {},
   "outputs": [
    {
     "name": "stdout",
     "output_type": "stream",
     "text": [
      "+--------------------+-----+\n",
      "|       category_code|count|\n",
      "+--------------------+-----+\n",
      "|appliances.enviro...|13496|\n",
      "| stationery.cartrige| 5317|\n",
      "|       apparel.glove| 3619|\n",
      "|furniture.bathroo...| 1929|\n",
      "|furniture.living_...| 1108|\n",
      "|     accessories.bag|  407|\n",
      "|appliances.person...|  313|\n",
      "|appliances.person...|  177|\n",
      "|accessories.cosme...|  126|\n",
      "|appliances.enviro...|   52|\n",
      "+--------------------+-----+\n",
      "\n"
     ]
    }
   ],
   "source": [
    "# Count the number of occurrences for each category:\n",
    "\n",
    "category_count = df.groupBy(\"category_code\").count().orderBy(\"count\", ascending=False)\n",
    "category_count.show()"
   ]
  },
  {
   "cell_type": "code",
   "execution_count": 20,
   "id": "c51985b9",
   "metadata": {},
   "outputs": [
    {
     "name": "stdout",
     "output_type": "stream",
     "text": [
      "+--------------------+-----+------------------+\n",
      "|       category_code|count|        percentage|\n",
      "+--------------------+-----+------------------+\n",
      "|appliances.enviro...|13496|          134960.0|\n",
      "| stationery.cartrige| 5317| 53170.00000000001|\n",
      "|       apparel.glove| 3619|           36190.0|\n",
      "|furniture.bathroo...| 1929|           19290.0|\n",
      "|furniture.living_...| 1108|           11080.0|\n",
      "|     accessories.bag|  407|4070.0000000000005|\n",
      "|appliances.person...|  313|            3130.0|\n",
      "|appliances.person...|  177|            1770.0|\n",
      "|accessories.cosme...|  126|            1260.0|\n",
      "|appliances.enviro...|   52|             520.0|\n",
      "+--------------------+-----+------------------+\n",
      "\n"
     ]
    }
   ],
   "source": [
    "#Calculate the percentage distribution of different categories:\n",
    "\n",
    "total_categories = df.select(\"category_code\").distinct().count()\n",
    "category_percentage = category_count.withColumn(\"percentage\", F.col(\"count\") / total_categories * 100)\n",
    "category_percentage.show()\n"
   ]
  },
  {
   "cell_type": "code",
   "execution_count": 21,
   "id": "9c28e77a",
   "metadata": {},
   "outputs": [
    {
     "name": "stdout",
     "output_type": "stream",
     "text": [
      "+--------------------+-----+\n",
      "|       category_code|count|\n",
      "+--------------------+-----+\n",
      "|appliances.enviro...|13496|\n",
      "| stationery.cartrige| 5317|\n",
      "|       apparel.glove| 3619|\n",
      "|furniture.bathroo...| 1929|\n",
      "|furniture.living_...| 1108|\n",
      "+--------------------+-----+\n",
      "\n"
     ]
    }
   ],
   "source": [
    "# Identify the top-selling categories based on sales or event counts:\n",
    "\n",
    "top_categories = category_count.limit(5)\n",
    "top_categories.show()\n"
   ]
  },
  {
   "cell_type": "code",
   "execution_count": 22,
   "id": "d2e100e0",
   "metadata": {},
   "outputs": [
    {
     "name": "stdout",
     "output_type": "stream",
     "text": [
      "+--------------------+------------------+\n",
      "|       category_code|        avg(price)|\n",
      "+--------------------+------------------+\n",
      "|furniture.living_...|105.50334837545181|\n",
      "|     accessories.bag| 61.78884520884514|\n",
      "|appliances.person...|  57.5719808306709|\n",
      "|appliances.person...| 55.37661016949153|\n",
      "|appliances.enviro...|51.491272969768524|\n",
      "|furniture.bathroo...|34.214795230689504|\n",
      "|accessories.cosme...|14.377539682539682|\n",
      "|appliances.enviro...| 10.19576923076923|\n",
      "|       apparel.glove| 7.496123238463637|\n",
      "| stationery.cartrige|2.2598401354147097|\n",
      "+--------------------+------------------+\n",
      "\n"
     ]
    }
   ],
   "source": [
    "#Analyze the average price or revenue by category:\n",
    "\n",
    "average_price_by_category = df.groupBy(\"category_code\").avg(\"price\").orderBy(\"avg(price)\", ascending=False)\n",
    "average_price_by_category.show()\n"
   ]
  },
  {
   "cell_type": "code",
   "execution_count": 23,
   "id": "65f84a0e",
   "metadata": {},
   "outputs": [
    {
     "data": {
      "image/png": "[encoded data removed]",
      "text/plain": [
       "<Figure size 432x288 with 1 Axes>"
      ]
     },
     "metadata": {
      "needs_background": "light"
     },
     "output_type": "display_data"
    }
   ],
   "source": [
    "import matplotlib.pyplot as plt\n",
    "\n",
    "category_counts = category_count.toPandas()\n",
    "plt.bar(category_counts[\"category_code\"], category_counts[\"count\"])\n",
    "plt.xlabel(\"Category\")\n",
    "plt.ylabel(\"Count\")\n",
    "plt.title(\"Distribution of Product Categories\")\n",
    "plt.xticks(rotation=90)\n",
    "plt.show()\n"
   ]
  },
  {
   "cell_type": "code",
   "execution_count": 24,
   "id": "fb76554a",
   "metadata": {},
   "outputs": [
    {
     "data": {
      "image/png": "[encoded data removed]",
      "text/plain": [
       "<Figure size 432x288 with 1 Axes>"
      ]
     },
     "metadata": {},
     "output_type": "display_data"
    }
   ],
   "source": [
    "category_percentages = category_percentage.toPandas()\n",
    "plt.pie(category_percentages[\"percentage\"], labels=category_percentages[\"category_code\"], autopct='%1.1f%%')\n",
    "plt.title(\"Percentage Distribution of Product Categories\")\n",
    "plt.axis('equal')\n",
    "plt.show()\n"
   ]
  },
  {
   "cell_type": "markdown",
   "id": "ed3fb554",
   "metadata": {},
   "source": [
    "# Brand Analysis"
   ]
  },
  {
   "cell_type": "code",
   "execution_count": 25,
   "id": "c2ad4e94",
   "metadata": {},
   "outputs": [
    {
     "name": "stdout",
     "output_type": "stream",
     "text": [
      "+---------+-----+\n",
      "|    brand|count|\n",
      "+---------+-----+\n",
      "|  italwax| 4157|\n",
      "|      max| 3463|\n",
      "|  polarus| 3111|\n",
      "|   runail| 2540|\n",
      "|     emil| 2402|\n",
      "|   benovy| 2118|\n",
      "|    irisk| 2099|\n",
      "| jessnail| 1867|\n",
      "|depilflax|  805|\n",
      "|    domix|  774|\n",
      "| nitrimax|  730|\n",
      "|  nitrile|  453|\n",
      "|    vosev|  405|\n",
      "| kosmekka|  353|\n",
      "| gezatone|  317|\n",
      "|     yoko|  146|\n",
      "|     shik|   98|\n",
      "|   mavala|   86|\n",
      "|    dewal|   85|\n",
      "|     milv|   81|\n",
      "+---------+-----+\n",
      "only showing top 20 rows\n",
      "\n"
     ]
    }
   ],
   "source": [
    "#Count the number of occurrences for each brand:\n",
    "brand_count = df.groupBy(\"brand\").count().orderBy(\"count\", ascending=False)\n",
    "brand_count.show()"
   ]
  },
  {
   "cell_type": "code",
   "execution_count": 26,
   "id": "41796708",
   "metadata": {},
   "outputs": [
    {
     "name": "stdout",
     "output_type": "stream",
     "text": [
      "+-------+-----+\n",
      "|  brand|count|\n",
      "+-------+-----+\n",
      "|italwax| 4157|\n",
      "|    max| 3463|\n",
      "|polarus| 3111|\n",
      "| runail| 2540|\n",
      "|   emil| 2402|\n",
      "+-------+-----+\n",
      "\n"
     ]
    }
   ],
   "source": [
    "#Identify the top-selling brands based on sales or event counts:\n",
    "\n",
    "top_brands = brand_count.limit(5)\n",
    "top_brands.show()\n"
   ]
  },
  {
   "cell_type": "code",
   "execution_count": 27,
   "id": "555cdf18",
   "metadata": {},
   "outputs": [
    {
     "name": "stdout",
     "output_type": "stream",
     "text": [
      "+---------+------------------+\n",
      "|    brand|        avg(price)|\n",
      "+---------+------------------+\n",
      "| kosmekka|146.36334277620423|\n",
      "|   jaguar| 88.08923076923078|\n",
      "|      max|  69.3235200693046|\n",
      "|   kondor| 64.55307692307693|\n",
      "|  polarus| 63.69310511089666|\n",
      "|    vosev|61.976395061728326|\n",
      "| gezatone| 57.04564668769714|\n",
      "|     emil|  52.9116527893424|\n",
      "|    irisk|41.244349690328654|\n",
      "|   runail| 39.02587795275601|\n",
      "| jessnail|37.359169791108854|\n",
      "| babyliss|30.450000000000003|\n",
      "|  farmona|22.785531914893618|\n",
      "| naturmed|21.793999999999997|\n",
      "|   matrix|21.430000000000003|\n",
      "| kinetics| 20.37965517241379|\n",
      "|     shik|            17.145|\n",
      "|farmavita|             16.42|\n",
      "|   gehwol|            16.245|\n",
      "|   cutrin|12.870909090909093|\n",
      "+---------+------------------+\n",
      "only showing top 20 rows\n",
      "\n"
     ]
    }
   ],
   "source": [
    "#Analyze the average price or revenue by brand:\n",
    "\n",
    "average_price_by_brand = df.groupBy(\"brand\").avg(\"price\").orderBy(\"avg(price)\", ascending=False)\n",
    "average_price_by_brand.show()\n"
   ]
  },
  {
   "cell_type": "code",
   "execution_count": 28,
   "id": "4bbfafd3",
   "metadata": {},
   "outputs": [
    {
     "data": {
      "image/png": "[encoded data removed]",
      "text/plain": [
       "<Figure size 432x288 with 1 Axes>"
      ]
     },
     "metadata": {
      "needs_background": "light"
     },
     "output_type": "display_data"
    }
   ],
   "source": [
    "import matplotlib.pyplot as plt\n",
    "\n",
    "brand_counts = brand_count.toPandas()\n",
    "plt.bar(brand_counts[\"brand\"], brand_counts[\"count\"])\n",
    "plt.xlabel(\"Brand\")\n",
    "plt.ylabel(\"Count\")\n",
    "plt.title(\"Distribution of Brands\")\n",
    "plt.xticks(rotation=90)\n",
    "plt.show()\n"
   ]
  },
  {
   "cell_type": "markdown",
   "id": "be4a8f68",
   "metadata": {},
   "source": [
    "# Pricing Analsyis"
   ]
  },
  {
   "cell_type": "code",
   "execution_count": 34,
   "id": "f3a43aca",
   "metadata": {},
   "outputs": [
    {
     "name": "stdout",
     "output_type": "stream",
     "text": [
      "+---------+---------+-----------------+\n",
      "|min_price|max_price|       mean_price|\n",
      "+---------+---------+-----------------+\n",
      "|     0.94|   284.13|36.62898621157333|\n",
      "+---------+---------+-----------------+\n",
      "\n"
     ]
    }
   ],
   "source": [
    "#Calculate basic statistics of price, such as minimum, maximum, mean, and median:\n",
    "\n",
    "price_statistics = df.select(F.min(\"price\").alias(\"min_price\"),\n",
    "                             F.max(\"price\").alias(\"max_price\"),\n",
    "                             F.mean(\"price\").alias(\"mean_price\"))\n",
    "                             \n",
    "price_statistics.show()\n"
   ]
  },
  {
   "cell_type": "code",
   "execution_count": 35,
   "id": "bf252897",
   "metadata": {},
   "outputs": [
    {
     "name": "stdout",
     "output_type": "stream",
     "text": [
      "+-------------------+----------+----------+--------------------+--------------------+--------+------+------------+--------------------+\n",
      "|         event_time|event_type|product_id|         category_id|       category_code|   brand| price|     user_id|        user_session|\n",
      "+-------------------+----------+----------+--------------------+--------------------+--------+------+------------+--------------------+\n",
      "|2019-10-02 08:44:06|      view| 5771614.0|2.193074740619379...|furniture.living_...|kosmekka|150.79|4.16133388E8|9e5ddd0f-cb33-48b...|\n",
      "|2019-10-02 11:01:03|      view| 5771614.0|2.193074740619379...|furniture.living_...|kosmekka|150.79|5.56057482E8|bdcb4966-70df-4c3...|\n",
      "|2019-10-02 02:33:11|      view| 5771614.0|2.193074740619379...|furniture.living_...|kosmekka|150.79|5.55893418E8|6b35e217-bd3e-472...|\n",
      "|2019-10-03 15:23:02|      view| 5771614.0|2.193074740619379...|furniture.living_...|kosmekka|150.79|5.56504402E8|04057710-4db2-475...|\n",
      "|2019-10-01 05:25:43|      view| 5771614.0|2.193074740619379...|furniture.living_...|kosmekka|150.79|4.82040058E8|2de77aa2-b67b-4c1...|\n",
      "|2019-10-01 02:37:55|      view| 5771614.0|2.193074740619379...|furniture.living_...|kosmekka|150.79|5.42276988E8|48828972-ec29-4a0...|\n",
      "|2019-10-02 13:40:44|      view| 5771614.0|2.193074740619379...|furniture.living_...|kosmekka|150.79| 5.2984812E8|5cf820c8-d853-480...|\n",
      "|2019-10-02 17:20:39|      view| 5771614.0|2.193074740619379...|furniture.living_...|kosmekka|150.79|5.56174596E8|1e2d3eb0-7feb-4f9...|\n",
      "|2019-10-05 16:06:33|      view| 5771614.0|2.193074740619379...|furniture.living_...|kosmekka|150.79|5.57159369E8|9dbccb44-a473-4bd...|\n",
      "|2019-10-07 04:59:11|      view| 5771614.0|2.193074740619379...|furniture.living_...|kosmekka|150.79|5.07167296E8|60c269d5-cefb-493...|\n",
      "|2019-10-04 07:09:16|      view| 5771614.0|2.193074740619379...|furniture.living_...|kosmekka|150.79|5.46758795E8|99dc11e3-61f6-4a6...|\n",
      "|2019-10-07 14:37:11|      view| 5771614.0|2.193074740619379...|furniture.living_...|kosmekka|150.79|5.57818753E8|0c44d007-bda1-4fe...|\n",
      "|2019-10-06 01:41:11|      view| 5771614.0|2.193074740619379...|furniture.living_...|kosmekka|150.79|5.57245678E8|45d35d35-ab96-491...|\n",
      "|2019-10-05 14:44:08|      view| 5771614.0|2.193074740619379...|furniture.living_...|kosmekka|150.79|4.87308646E8|5c1f2d8f-62a0-458...|\n",
      "|2019-10-05 03:16:48|      view| 5771614.0|2.193074740619379...|furniture.living_...|kosmekka|150.79|5.21606217E8|e8052fac-2cd2-4fc...|\n",
      "|2019-10-08 06:27:54|      view| 5771614.0|2.193074740619379...|furniture.living_...|kosmekka|150.79|5.58025543E8|afed5a33-744a-4c1...|\n",
      "|2019-10-10 17:57:18|      view| 5771614.0|2.193074740619379...|furniture.living_...|kosmekka|150.79|5.58959401E8|aa195ea5-15c9-44e...|\n",
      "|2019-10-08 09:13:31|      view| 5771614.0|2.193074740619379...|furniture.living_...|kosmekka|150.79|5.58058779E8|4e234925-049d-44c...|\n",
      "|2019-10-09 17:31:30|      view| 5771614.0|2.193074740619379...|furniture.living_...|kosmekka|150.79|5.49636631E8|a08982f7-efca-435...|\n",
      "|2019-10-10 11:49:04|      view| 5771614.0|2.193074740619379...|furniture.living_...|kosmekka|150.79|5.44865179E8|6f62b29d-3991-42f...|\n",
      "+-------------------+----------+----------+--------------------+--------------------+--------+------+------------+--------------------+\n",
      "only showing top 20 rows\n",
      "\n"
     ]
    }
   ],
   "source": [
    "# Identify any outliers or unusual price values:\n",
    "\n",
    "# Calculate the lower and upper quartiles\n",
    "quartiles = df.approxQuantile(\"price\", [0.25, 0.75], 0.05)\n",
    "\n",
    "# Calculate the interquartile range (IQR)\n",
    "iqr = quartiles[1] - quartiles[0]\n",
    "\n",
    "# Calculate the lower and upper bounds for outliers\n",
    "lower_bound = quartiles[0] - (1.5 * iqr)\n",
    "upper_bound = quartiles[1] + (1.5 * iqr)\n",
    "\n",
    "# Filter the dataframe to identify outliers\n",
    "outliers = df.filter((df[\"price\"] < lower_bound) | (df[\"price\"] > upper_bound))\n",
    "outliers.show()\n"
   ]
  },
  {
   "cell_type": "code",
   "execution_count": 40,
   "id": "0486429e",
   "metadata": {},
   "outputs": [
    {
     "data": {
      "image/png": "[encoded data removed]",
      "text/plain": [
       "<Figure size 432x288 with 1 Axes>"
      ]
     },
     "metadata": {
      "needs_background": "light"
     },
     "output_type": "display_data"
    }
   ],
   "source": [
    "import matplotlib.pyplot as plt\n",
    "import pandas as pd\n",
    "\n",
    "# Convert Spark DataFrame to pandas DataFrame\n",
    "pandas_df = df.select(\"price\").toPandas()\n",
    "\n",
    "# Create a histogram of price distribution\n",
    "plt.hist(pandas_df[\"price\"], bins=10)\n",
    "plt.xlabel(\"Price\")\n",
    "plt.ylabel(\"Frequency\")\n",
    "plt.title(\"Price Distribution\")\n",
    "plt.show()\n"
   ]
  },
  {
   "cell_type": "code",
   "execution_count": 41,
   "id": "bf27a7da",
   "metadata": {},
   "outputs": [
    {
     "data": {
      "image/png": "[encoded data removed]",
      "text/plain": [
       "<Figure size 432x288 with 1 Axes>"
      ]
     },
     "metadata": {
      "needs_background": "light"
     },
     "output_type": "display_data"
    }
   ],
   "source": [
    "import matplotlib.pyplot as plt\n",
    "import pandas as pd\n",
    "\n",
    "# Convert Spark DataFrame to pandas DataFrame\n",
    "pandas_df = df.select(\"price\").toPandas()\n",
    "\n",
    "# Create a box plot of price distribution\n",
    "plt.boxplot(pandas_df[\"price\"])\n",
    "plt.xlabel(\"Price\")\n",
    "plt.title(\"Price Distribution\")\n",
    "plt.show()\n"
   ]
  },
  {
   "cell_type": "markdown",
   "id": "c986dcae",
   "metadata": {},
   "source": [
    "# User Analysis"
   ]
  },
  {
   "cell_type": "code",
   "execution_count": 42,
   "id": "a40d19cd",
   "metadata": {},
   "outputs": [
    {
     "name": "stdout",
     "output_type": "stream",
     "text": [
      "Number of unique users: 17939\n"
     ]
    }
   ],
   "source": [
    "unique_users = df.select(\"user_id\").distinct().count()\n",
    "print(\"Number of unique users:\", unique_users)\n"
   ]
  },
  {
   "cell_type": "code",
   "execution_count": 43,
   "id": "bd259c32",
   "metadata": {},
   "outputs": [
    {
     "name": "stdout",
     "output_type": "stream",
     "text": [
      "+------------+-------------+\n",
      "|     user_id|session_count|\n",
      "+------------+-------------+\n",
      "|5.55769702E8|            1|\n",
      "|2.98810722E8|            1|\n",
      "| 5.5560429E8|            1|\n",
      "|5.49799296E8|            1|\n",
      "|5.56723825E8|            1|\n",
      "|4.49988765E8|            1|\n",
      "|5.53837618E8|            2|\n",
      "|  5.583004E8|            1|\n",
      "|5.48829421E8|            1|\n",
      "| 4.2302953E8|            2|\n",
      "|5.17814958E8|            2|\n",
      "|5.62986868E8|            1|\n",
      "| 5.0022196E8|            2|\n",
      "|4.69749672E8|            2|\n",
      "|5.64653175E8|            1|\n",
      "|4.57648356E8|            1|\n",
      "|5.64043962E8|            1|\n",
      "|4.66996237E8|            1|\n",
      "|4.84346658E8|            2|\n",
      "|5.64743739E8|            1|\n",
      "+------------+-------------+\n",
      "only showing top 20 rows\n",
      "\n"
     ]
    }
   ],
   "source": [
    "#Analyze the frequency of user sessions:\n",
    "\n",
    "session_count = df.groupBy(\"user_id\", \"user_session\").count().groupBy(\"user_id\").agg(F.count(\"user_session\").alias(\"session_count\"))\n",
    "session_count.show()\n"
   ]
  },
  {
   "cell_type": "code",
   "execution_count": 44,
   "id": "4c41b265",
   "metadata": {},
   "outputs": [
    {
     "name": "stdout",
     "output_type": "stream",
     "text": [
      "+------------+-----+\n",
      "|     user_id|count|\n",
      "+------------+-----+\n",
      "|4.00419007E8|   35|\n",
      "|4.61327949E8|   23|\n",
      "|5.57616099E8|   22|\n",
      "|5.58545016E8|   21|\n",
      "|3.69925412E8|   17|\n",
      "+------------+-----+\n",
      "\n",
      "+------------+-------+\n",
      "|     user_id|revenue|\n",
      "+------------+-------+\n",
      "|4.00419007E8|2652.37|\n",
      "|5.92324341E8|1204.29|\n",
      "|5.57616099E8|1096.27|\n",
      "|4.66445018E8|1019.53|\n",
      "|4.16042991E8| 959.13|\n",
      "+------------+-------+\n",
      "\n"
     ]
    }
   ],
   "source": [
    "#Identify the top users based on the number of events or revenue generated:\n",
    "\n",
    "top_users_events = df.groupBy(\"user_id\").count().orderBy(\"count\", ascending=False).limit(5)\n",
    "top_users_events.show()\n",
    "\n",
    "# If revenue information is available, you can also identify top users based on revenue generated:\n",
    "top_users_revenue = df.groupBy(\"user_id\").agg(F.sum(\"price\").alias(\"revenue\")).orderBy(\"revenue\", ascending=False).limit(5)\n",
    "top_users_revenue.show()\n"
   ]
  },
  {
   "cell_type": "code",
   "execution_count": 45,
   "id": "a0d57737",
   "metadata": {},
   "outputs": [
    {
     "name": "stdout",
     "output_type": "stream",
     "text": [
      "+------------+-------------------+-------+\n",
      "|     user_id|    last_event_time|recency|\n",
      "+------------+-------------------+-------+\n",
      "| 5.5560429E8|2019-10-01 07:24:44|   1322|\n",
      "|2.98810722E8|2019-10-01 10:51:49|   1322|\n",
      "|5.55769702E8|2019-10-01 15:35:27|   1322|\n",
      "|5.55514612E8|2019-10-01 02:38:14|   1322|\n",
      "|5.15739868E8|2019-10-02 07:42:42|   1321|\n",
      "|5.54542689E8|2019-10-01 13:16:12|   1322|\n",
      "|5.50277678E8|2019-10-02 13:34:01|   1321|\n",
      "|5.56119062E8|2019-10-02 14:32:31|   1321|\n",
      "|5.56688367E8|2019-10-04 07:40:11|   1319|\n",
      "|5.49854453E8|2019-09-30 21:38:03|   1323|\n",
      "|4.77166035E8|2020-01-28 07:20:24|   1203|\n",
      "|5.29001782E8|2019-10-03 04:13:33|   1320|\n",
      "|2.51352373E8|2019-10-03 04:44:46|   1320|\n",
      "|5.33851435E8|2019-10-01 02:07:55|   1322|\n",
      "|5.39899399E8|2019-12-13 05:28:46|   1249|\n",
      "|3.97434246E8|2019-10-02 04:13:55|   1321|\n",
      "|5.22797178E8|2019-10-03 13:56:28|   1320|\n",
      "|5.54652133E8|2020-01-02 13:00:17|   1229|\n",
      "|5.36065234E8|2019-10-03 14:44:18|   1320|\n",
      "|2.75824683E8|2019-10-03 15:55:15|   1320|\n",
      "+------------+-------------------+-------+\n",
      "only showing top 20 rows\n",
      "\n"
     ]
    }
   ],
   "source": [
    "# Analyze the recency of user activity by calculating the time elapsed since their last event:\n",
    "\n",
    "from pyspark.sql.functions import current_timestamp\n",
    "\n",
    "user_recency = df.groupBy(\"user_id\").agg(F.max(\"event_time\").alias(\"last_event_time\"))\n",
    "user_recency = user_recency.withColumn(\"recency\", F.datediff(F.current_timestamp(), F.col(\"last_event_time\")))\n",
    "user_recency.show()\n"
   ]
  },
  {
   "cell_type": "code",
   "execution_count": 46,
   "id": "a4694dfa",
   "metadata": {},
   "outputs": [
    {
     "name": "stdout",
     "output_type": "stream",
     "text": [
      "+------------+-------+---------+------------------+\n",
      "|     user_id|recency|frequency|          monetary|\n",
      "+------------+-------+---------+------------------+\n",
      "| 5.5560429E8|   1322|        1|              9.52|\n",
      "|4.69749672E8|   1297|        2|               7.3|\n",
      "|5.64743739E8|   1296|        1|             94.44|\n",
      "|5.65208716E8|   1295|        1|            150.79|\n",
      "|4.84346658E8|   1288|        3|              6.98|\n",
      "|5.72556155E8|   1275|        1|             53.17|\n",
      "| 5.7311298E8|   1274|        1|             53.81|\n",
      "| 4.2302953E8|   1267|        2|            116.03|\n",
      "|4.08795242E8|   1220|        7|            592.41|\n",
      "|5.82758484E8|   1249|        2|118.89000000000001|\n",
      "|4.50840633E8|   1241|        1|              1.43|\n",
      "|5.44065836E8|   1240|        2|              3.96|\n",
      "|5.06824838E8|   1226|        1|             24.44|\n",
      "|5.88731519E8|   1221|        1|              1.98|\n",
      "|6.02050813E8|   1211|        1|              6.19|\n",
      "|5.09218779E8|   1208|        1|             82.54|\n",
      "|6.00170334E8|   1204|        1|              7.46|\n",
      "|5.58525406E8|   1203|        1|             94.44|\n",
      "|4.90615023E8|   1201|        1|             24.44|\n",
      "|5.36694355E8|   1195|        3|            131.59|\n",
      "+------------+-------+---------+------------------+\n",
      "only showing top 20 rows\n",
      "\n"
     ]
    }
   ],
   "source": [
    "# Calculate recency, frequency, and monetary value for each user\n",
    "rfm_analysis = df.groupBy(\"user_id\").agg(\n",
    "    F.datediff(F.current_timestamp(), F.max(\"event_time\")).alias(\"recency\"),\n",
    "    F.count(\"event_time\").alias(\"frequency\"),\n",
    "    F.sum(\"price\").alias(\"monetary\")\n",
    ")\n",
    "\n",
    "rfm_analysis.show()\n"
   ]
  },
  {
   "cell_type": "markdown",
   "id": "273b0bc0",
   "metadata": {},
   "source": [
    "# Time Series Analysis"
   ]
  },
  {
   "cell_type": "code",
   "execution_count": 47,
   "id": "30cdb87f",
   "metadata": {},
   "outputs": [
    {
     "name": "stdout",
     "output_type": "stream",
     "text": [
      "+----------+-----+\n",
      "|event_date|count|\n",
      "+----------+-----+\n",
      "|2019-09-30|    5|\n",
      "|2019-10-01|  188|\n",
      "|2019-10-02|  214|\n",
      "|2019-10-03|  167|\n",
      "|2019-10-04|  129|\n",
      "|2019-10-05|  130|\n",
      "|2019-10-06|  185|\n",
      "|2019-10-07|  193|\n",
      "|2019-10-08|  145|\n",
      "|2019-10-09|  154|\n",
      "|2019-10-10|  195|\n",
      "|2019-10-11|  103|\n",
      "|2019-10-12|  128|\n",
      "|2019-10-13|  158|\n",
      "|2019-10-14|  186|\n",
      "|2019-10-15|  171|\n",
      "|2019-10-16|  162|\n",
      "|2019-10-17|  106|\n",
      "|2019-10-18|  149|\n",
      "|2019-10-19|  125|\n",
      "+----------+-----+\n",
      "only showing top 20 rows\n",
      "\n",
      "+-----------+-----+\n",
      "|event_month|count|\n",
      "+-----------+-----+\n",
      "|          1| 5723|\n",
      "|          2| 6049|\n",
      "|          9|    5|\n",
      "|         10| 4785|\n",
      "|         11| 5675|\n",
      "|         12| 4307|\n",
      "+-----------+-----+\n",
      "\n",
      "+----------+-----+\n",
      "|event_year|count|\n",
      "+----------+-----+\n",
      "|      2019|14772|\n",
      "|      2020|11772|\n",
      "+----------+-----+\n",
      "\n"
     ]
    }
   ],
   "source": [
    "# Analyze the distribution of events over time, such as by day, month, or year:\n",
    "\n",
    "# Extract the date, month, and year from the event_time column\n",
    "df = df.withColumn(\"event_date\", F.to_date(\"event_time\"))\n",
    "df = df.withColumn(\"event_month\", F.month(\"event_time\"))\n",
    "df = df.withColumn(\"event_year\", F.year(\"event_time\"))\n",
    "\n",
    "# Count the number of events by date, month, or year\n",
    "event_count_by_date = df.groupBy(\"event_date\").count().orderBy(\"event_date\")\n",
    "event_count_by_month = df.groupBy(\"event_month\").count().orderBy(\"event_month\")\n",
    "event_count_by_year = df.groupBy(\"event_year\").count().orderBy(\"event_year\")\n",
    "\n",
    "event_count_by_date.show()\n",
    "event_count_by_month.show()\n",
    "event_count_by_year.show()\n"
   ]
  },
  {
   "cell_type": "code",
   "execution_count": 48,
   "id": "b76a48d5",
   "metadata": {},
   "outputs": [
    {
     "data": {
      "image/png": "[encoded data removed]",
      "text/plain": [
       "<Figure size 432x288 with 1 Axes>"
      ]
     },
     "metadata": {
      "needs_background": "light"
     },
     "output_type": "display_data"
    }
   ],
   "source": [
    "# Identify peak activity periods or seasonality patterns:\n",
    "\n",
    "event_count_by_date_pd = event_count_by_date.toPandas()\n",
    "plt.plot(event_count_by_date_pd[\"event_date\"], event_count_by_date_pd[\"count\"])\n",
    "plt.xlabel(\"Date\")\n",
    "plt.ylabel(\"Event Count\")\n",
    "plt.title(\"Event Distribution by Date\")\n",
    "plt.xticks(rotation=90)\n",
    "plt.show()\n"
   ]
  },
  {
   "cell_type": "code",
   "execution_count": 49,
   "id": "77e65927",
   "metadata": {},
   "outputs": [
    {
     "name": "stdout",
     "output_type": "stream",
     "text": [
      "+----------+------------------+\n",
      "|event_date|        avg(price)|\n",
      "+----------+------------------+\n",
      "|2019-09-30|             40.84|\n",
      "|2019-10-01|41.866489361702136|\n",
      "|2019-10-02|44.468504672897204|\n",
      "|2019-10-03| 34.34586826347305|\n",
      "|2019-10-04|40.145968992248065|\n",
      "|2019-10-05| 32.90930769230769|\n",
      "|2019-10-06|  34.2531891891892|\n",
      "|2019-10-07|  33.7379792746114|\n",
      "|2019-10-08| 40.39206896551725|\n",
      "|2019-10-09|31.436103896103894|\n",
      "|2019-10-10| 36.61471794871795|\n",
      "|2019-10-11| 36.69145631067961|\n",
      "|2019-10-12|      39.792734375|\n",
      "|2019-10-13| 37.31892405063292|\n",
      "|2019-10-14| 33.16618279569894|\n",
      "|2019-10-15|40.622280701754384|\n",
      "|2019-10-16|31.917901234567907|\n",
      "|2019-10-17| 33.58066037735849|\n",
      "|2019-10-18| 41.15375838926175|\n",
      "|2019-10-19| 42.43088000000001|\n",
      "+----------+------------------+\n",
      "only showing top 20 rows\n",
      "\n",
      "+-----------+------------------+\n",
      "|event_month|        avg(price)|\n",
      "+-----------+------------------+\n",
      "|          1| 35.45823344399806|\n",
      "|          2|37.150955529839834|\n",
      "|          9|             40.84|\n",
      "|         10| 36.62187042842231|\n",
      "|         11| 37.02561409691636|\n",
      "|         12| 36.93197120965877|\n",
      "+-----------+------------------+\n",
      "\n",
      "+----------+------------------+\n",
      "|event_year|        avg(price)|\n",
      "+----------+------------------+\n",
      "|      2019|36.868820064988036|\n",
      "|      2020|36.328032619775804|\n",
      "+----------+------------------+\n",
      "\n"
     ]
    }
   ],
   "source": [
    "# Analyzing the average price or revenue trends over time:\n",
    "\n",
    "# Extract the date, month, and year from the event_time column (if not done already)\n",
    "df = df.withColumn(\"event_date\", F.to_date(\"event_time\"))\n",
    "df = df.withColumn(\"event_month\", F.month(\"event_time\"))\n",
    "df = df.withColumn(\"event_year\", F.year(\"event_time\"))\n",
    "\n",
    "# Calculate the average price or revenue by date, month, or year\n",
    "average_price_by_date = df.groupBy(\"event_date\").avg(\"price\").orderBy(\"event_date\")\n",
    "average_price_by_month = df.groupBy(\"event_month\").avg(\"price\").orderBy(\"event_month\")\n",
    "average_price_by_year = df.groupBy(\"event_year\").avg(\"price\").orderBy(\"event_year\")\n",
    "\n",
    "average_price_by_date.show()\n",
    "average_price_by_month.show()\n",
    "average_price_by_year.show()\n"
   ]
  },
  {
   "cell_type": "code",
   "execution_count": 50,
   "id": "f58b3177",
   "metadata": {},
   "outputs": [
    {
     "name": "stdout",
     "output_type": "stream",
     "text": [
      "+------------+---------------------+\n",
      "|     user_id|avg(session_duration)|\n",
      "+------------+---------------------+\n",
      "| 5.5560429E8|                 null|\n",
      "|4.69749672E8|                 null|\n",
      "|5.64743739E8|                 null|\n",
      "|5.65208716E8|                 null|\n",
      "|4.84346658E8|                 null|\n",
      "|5.72556155E8|                 null|\n",
      "| 5.7311298E8|                 null|\n",
      "| 4.2302953E8|                 null|\n",
      "|4.08795242E8|                 null|\n",
      "|5.82758484E8|                 null|\n",
      "|4.50840633E8|                 null|\n",
      "|5.44065836E8|                 null|\n",
      "|5.06824838E8|                 null|\n",
      "|5.88731519E8|                 null|\n",
      "|6.02050813E8|                 null|\n",
      "|5.09218779E8|                 null|\n",
      "|6.00170334E8|                 null|\n",
      "|5.58525406E8|                 null|\n",
      "|4.90615023E8|                 null|\n",
      "|5.36694355E8|                 null|\n",
      "+------------+---------------------+\n",
      "only showing top 20 rows\n",
      "\n"
     ]
    }
   ],
   "source": [
    "#Analyzing the duration or average session time:\n",
    "\n",
    "df = df.withColumn(\"session_start\", F.substring_index(\"user_session\", \"-\", 1))\n",
    "df = df.withColumn(\"session_end\", F.substring_index(\"user_session\", \"-\", -1))\n",
    "\n",
    "df = df.withColumn(\"session_duration\", F.unix_timestamp(\"session_end\") - F.unix_timestamp(\"session_start\"))\n",
    "average_session_time = df.groupBy(\"user_id\").avg(\"session_duration\").orderBy(\"avg(session_duration)\")\n",
    "\n",
    "average_session_time.show()\n"
   ]
  },
  {
   "cell_type": "markdown",
   "id": "adbbb309",
   "metadata": {},
   "source": [
    "# Advanced Analytics"
   ]
  },
  {
   "cell_type": "code",
   "execution_count": 60,
   "id": "4f10ecb9",
   "metadata": {},
   "outputs": [
    {
     "name": "stdout",
     "output_type": "stream",
     "text": [
      "+------------+---------+--------------+-----------------------+-------------------+--------------------+---------+--------------+--------------------------+-------+\n",
      "|     user_id|frequency|monetary_value|customer_lifetime_value|average_order_value|         category_id|    brand|purchase_count|average_price_per_customer|recency|\n",
      "+------------+---------+--------------+-----------------------+-------------------+--------------------+---------+--------------+--------------------------+-------+\n",
      "| 5.5560429E8|        1|          9.52|                   9.52|               9.52|2.007399943458784E18|  nitrile|             1|                      9.52|   1322|\n",
      "|4.69749672E8|        2|           7.3|                    7.3|               3.65|1.487580013053083...|  italwax|             2|                      3.65|   1297|\n",
      "|4.69749672E8|        2|           7.3|                    7.3|               3.65|1.487580013053083...|  italwax|             2|                      3.65|   1297|\n",
      "|5.64743739E8|        1|         94.44|                  94.44|              94.44|1.487580006350586...|  polarus|             1|                     94.44|   1296|\n",
      "|5.65208716E8|        1|        150.79|                 150.79|             150.79|2.193074740619379...| kosmekka|             1|                    150.79|   1295|\n",
      "|4.84346658E8|        3|          6.98|                   6.98| 2.3266666666666667|1.487580013053083...|  italwax|             2|        2.3266666666666667|   1288|\n",
      "|4.84346658E8|        3|          6.98|                   6.98| 2.3266666666666667|1.487580013053083...|  italwax|             2|        2.3266666666666667|   1288|\n",
      "|4.84346658E8|        3|          6.98|                   6.98| 2.3266666666666667|1.487580013053083...|  italwax|             2|        2.3266666666666667|   1288|\n",
      "|4.84346658E8|        3|          6.98|                   6.98| 2.3266666666666667|1.487580013053083...|depilflax|             1|        2.3266666666666667|   1288|\n",
      "|4.84346658E8|        3|          6.98|                   6.98| 2.3266666666666667|1.487580013053083...|depilflax|             1|        2.3266666666666667|   1288|\n",
      "|4.84346658E8|        3|          6.98|                   6.98| 2.3266666666666667|1.487580013053083...|depilflax|             1|        2.3266666666666667|   1288|\n",
      "|5.72556155E8|        1|         53.17|                  53.17|              53.17|1.487580006350586...| jessnail|             1|                     53.17|   1275|\n",
      "| 5.7311298E8|        1|         53.81|                  53.81|              53.81|1.487580006350586...|  polarus|             1|                     53.81|   1274|\n",
      "| 4.2302953E8|        2|        116.03|                 116.03|             58.015|1.487580006350586...|      max|             1|                    58.015|   1267|\n",
      "| 4.2302953E8|        2|        116.03|                 116.03|             58.015|1.487580006350586...|      max|             1|                    58.015|   1267|\n",
      "| 4.2302953E8|        2|        116.03|                 116.03|             58.015|2.193074740686488...|    irisk|             1|                    58.015|   1267|\n",
      "| 4.2302953E8|        2|        116.03|                 116.03|             58.015|2.193074740686488...|    irisk|             1|                    58.015|   1267|\n",
      "|4.08795242E8|        7|        592.41|                 592.41|              84.63|1.487580006350586...|  polarus|             7|                     84.63|   1220|\n",
      "|4.08795242E8|        7|        592.41|                 592.41|              84.63|1.487580006350586...|  polarus|             7|                     84.63|   1220|\n",
      "|4.08795242E8|        7|        592.41|                 592.41|              84.63|1.487580006350586...|  polarus|             7|                     84.63|   1220|\n",
      "+------------+---------+--------------+-----------------------+-------------------+--------------------+---------+--------------+--------------------------+-------+\n",
      "only showing top 20 rows\n",
      "\n"
     ]
    }
   ],
   "source": [
    "from pyspark.sql.functions import col, max, datediff, current_date\n",
    "from pyspark.sql.window import Window\n",
    "\n",
    "windowSpec = Window.partitionBy(\"user_id\")\n",
    "recency_df = df.withColumn(\"recency\", datediff(current_date(), max(\"event_time\").over(windowSpec)))\n",
    "\n",
    "frequency_df = df.groupBy(\"user_id\").agg(count(\"event_type\").alias(\"frequency\"))\n",
    "\n",
    "monetary_df = df.groupBy(\"user_id\").agg(sum(\"price\").alias(\"monetary_value\"))\n",
    "\n",
    "clv_df = df.groupBy(\"user_id\").agg(sum(\"price\").alias(\"customer_lifetime_value\"))\n",
    "\n",
    "average_order_value_df = df.groupBy(\"user_id\").agg(avg(\"price\").alias(\"average_order_value\"))\n",
    "\n",
    "purchase_history_df = df.groupBy(\"user_id\", \"category_id\", \"brand\").agg(count(\"*\").alias(\"purchase_count\"))\n",
    "\n",
    "\n",
    "average_price_per_customer_df = df.groupBy(\"user_id\").agg(avg(\"price\").alias(\"average_price_per_customer\"))\n",
    "\n",
    "features_df = frequency_df.join(monetary_df, \"user_id\", \"inner\") \\\n",
    "    .join(clv_df, \"user_id\", \"inner\") \\\n",
    "    .join(average_order_value_df, \"user_id\", \"inner\") \\\n",
    "    .join(purchase_history_df, [\"user_id\"], \"inner\") \\\n",
    "    .join(average_price_per_customer_df, \"user_id\", \"inner\") \\\n",
    "    .join(recency_df.select(\"user_id\", \"recency\"), \"user_id\", \"inner\")\n",
    "\n",
    "features_df.show()"
   ]
  },
  {
   "cell_type": "code",
   "execution_count": 61,
   "id": "f78edb40",
   "metadata": {},
   "outputs": [
    {
     "name": "stdout",
     "output_type": "stream",
     "text": [
      "root\n",
      " |-- user_id: double (nullable = true)\n",
      " |-- frequency: long (nullable = false)\n",
      " |-- monetary_value: double (nullable = true)\n",
      " |-- customer_lifetime_value: double (nullable = true)\n",
      " |-- average_order_value: double (nullable = true)\n",
      " |-- category_id: double (nullable = true)\n",
      " |-- brand: string (nullable = true)\n",
      " |-- purchase_count: long (nullable = false)\n",
      " |-- average_price_per_customer: double (nullable = true)\n",
      " |-- recency: integer (nullable = true)\n",
      "\n"
     ]
    }
   ],
   "source": [
    "features_df.printSchema()"
   ]
  },
  {
   "cell_type": "code",
   "execution_count": 62,
   "id": "396d9391",
   "metadata": {
    "scrolled": true
   },
   "outputs": [
    {
     "name": "stdout",
     "output_type": "stream",
     "text": [
      "+------------+---------+-------+-------------------+-----------------------+--------------------------+--------------+--------------------+--------+\n",
      "|     user_id|frequency|recency|average_order_value|customer_lifetime_value|average_price_per_customer|purchase_count|         category_id|   brand|\n",
      "+------------+---------+-------+-------------------+-----------------------+--------------------------+--------------+--------------------+--------+\n",
      "| 5.5560429E8|        1|   1322|               9.52|                   9.52|                      9.52|             1|2.007399943458784E18| nitrile|\n",
      "|2.98810722E8|        2|   1322|              30.16|                  60.32|                     30.16|             1|1.487580006350586...|   irisk|\n",
      "|2.98810722E8|        2|   1322|              30.16|                  60.32|                     30.16|             1|1.487580006350586...|   irisk|\n",
      "|2.98810722E8|        2|   1322|              30.16|                  60.32|                     30.16|             1|1.487580006350586...|  runail|\n",
      "|2.98810722E8|        2|   1322|              30.16|                  60.32|                     30.16|             1|1.487580006350586...|  runail|\n",
      "|5.55769702E8|        1|   1322|              46.83|                  46.83|                     46.83|             1|1.487580006350586...|jessnail|\n",
      "|5.55514612E8|        1|   1322|              10.32|                  10.32|                     10.32|             1|2.007399943458784E18|nitrimax|\n",
      "|5.15739868E8|        1|   1321|               7.78|                   7.78|                      7.78|             1|2.007399943458784E18|  mavala|\n",
      "|5.54542689E8|        1|   1322|               62.7|                   62.7|                      62.7|             1|1.487580010695884...|   vosev|\n",
      "|5.50277678E8|        1|   1321|               62.7|                   62.7|                      62.7|             1|1.487580010695884...|   vosev|\n",
      "|5.56119062E8|        2|   1321|              70.63|                 141.26|                     70.63|             2|1.487580006350586...| polarus|\n",
      "|5.56119062E8|        2|   1321|              70.63|                 141.26|                     70.63|             2|1.487580006350586...| polarus|\n",
      "|5.56688367E8|        2|   1319| 63.334999999999994|     126.66999999999999|        63.334999999999994|             2|1.487580006350586...|     max|\n",
      "|5.56688367E8|        2|   1319| 63.334999999999994|     126.66999999999999|        63.334999999999994|             2|1.487580006350586...|     max|\n",
      "|5.49854453E8|        1|   1323|               1.98|                   1.98|                      1.98|             1|1.487580013053083...| italwax|\n",
      "|4.77166035E8|        5|   1203|              2.268|                  11.34|                     2.268|             1|1.487580013053083...|  runail|\n",
      "|4.77166035E8|        5|   1203|              2.268|                  11.34|                     2.268|             1|1.487580013053083...|  runail|\n",
      "|4.77166035E8|        5|   1203|              2.268|                  11.34|                     2.268|             1|1.487580013053083...|  runail|\n",
      "|4.77166035E8|        5|   1203|              2.268|                  11.34|                     2.268|             1|1.487580013053083...|  runail|\n",
      "|4.77166035E8|        5|   1203|              2.268|                  11.34|                     2.268|             1|1.487580013053083...|  runail|\n",
      "+------------+---------+-------+-------------------+-----------------------+--------------------------+--------------+--------------------+--------+\n",
      "only showing top 20 rows\n",
      "\n"
     ]
    }
   ],
   "source": [
    "from pyspark.sql.functions import col\n",
    "\n",
    "segmentation_df = features_df.select(\n",
    "    col(\"user_id\"),\n",
    "    col(\"frequency\"),\n",
    "    col(\"recency\"),\n",
    "    col(\"average_order_value\"),\n",
    "    col(\"customer_lifetime_value\"),\n",
    "    col(\"average_price_per_customer\"),\n",
    "    col(\"purchase_count\"),\n",
    "    col(\"category_id\"),\n",
    "    col(\"brand\")\n",
    ")\n",
    "\n",
    "segmentation_df.show()\n"
   ]
  },
  {
   "cell_type": "code",
   "execution_count": 67,
   "id": "71108993",
   "metadata": {},
   "outputs": [
    {
     "name": "stdout",
     "output_type": "stream",
     "text": [
      "root\n",
      " |-- user_id: double (nullable = true)\n",
      " |-- frequency: long (nullable = false)\n",
      " |-- recency: integer (nullable = true)\n",
      " |-- average_order_value: double (nullable = true)\n",
      " |-- customer_lifetime_value: double (nullable = true)\n",
      " |-- average_price_per_customer: double (nullable = true)\n",
      " |-- purchase_count: long (nullable = false)\n",
      " |-- category_id: double (nullable = true)\n",
      " |-- brand: string (nullable = true)\n",
      "\n"
     ]
    }
   ],
   "source": [
    "segmentation_df.printSchema()"
   ]
  },
  {
   "cell_type": "code",
   "execution_count": 69,
   "id": "216a85ce",
   "metadata": {},
   "outputs": [
    {
     "name": "stdout",
     "output_type": "stream",
     "text": [
      "+------------+---------+-------+-------------------+-----------------------+--------------------------+--------------+--------------------+---------+---------------+-----------------+----------------+\n",
      "|     user_id|frequency|recency|average_order_value|customer_lifetime_value|average_price_per_customer|purchase_count|         category_id|    brand|recency_segment|frequency_segment|monetary_segment|\n",
      "+------------+---------+-------+-------------------+-----------------------+--------------------------+--------------+--------------------+---------+---------------+-----------------+----------------+\n",
      "| 5.5560429E8|        1|   1322|               9.52|                   9.52|                      9.52|             1|2.007399943458784E18|  nitrile|    Low-Recency|    Low-Frequency|       Low-Value|\n",
      "|4.69749672E8|        2|   1297|               3.65|                    7.3|                      3.65|             2|1.487580013053083...|  italwax|    Low-Recency| Medium-Frequency|       Low-Value|\n",
      "|4.69749672E8|        2|   1297|               3.65|                    7.3|                      3.65|             2|1.487580013053083...|  italwax|    Low-Recency| Medium-Frequency|       Low-Value|\n",
      "|5.64743739E8|        1|   1296|              94.44|                  94.44|                     94.44|             1|1.487580006350586...|  polarus|    Low-Recency|    Low-Frequency|      High-Value|\n",
      "|5.65208716E8|        1|   1295|             150.79|                 150.79|                    150.79|             1|2.193074740619379...| kosmekka|    Low-Recency|    Low-Frequency|      High-Value|\n",
      "|4.84346658E8|        3|   1288| 2.3266666666666667|                   6.98|        2.3266666666666667|             2|1.487580013053083...|  italwax|    Low-Recency|   High-Frequency|       Low-Value|\n",
      "|4.84346658E8|        3|   1288| 2.3266666666666667|                   6.98|        2.3266666666666667|             2|1.487580013053083...|  italwax|    Low-Recency|   High-Frequency|       Low-Value|\n",
      "|4.84346658E8|        3|   1288| 2.3266666666666667|                   6.98|        2.3266666666666667|             2|1.487580013053083...|  italwax|    Low-Recency|   High-Frequency|       Low-Value|\n",
      "|4.84346658E8|        3|   1288| 2.3266666666666667|                   6.98|        2.3266666666666667|             1|1.487580013053083...|depilflax|    Low-Recency|   High-Frequency|       Low-Value|\n",
      "|4.84346658E8|        3|   1288| 2.3266666666666667|                   6.98|        2.3266666666666667|             1|1.487580013053083...|depilflax|    Low-Recency|   High-Frequency|       Low-Value|\n",
      "|4.84346658E8|        3|   1288| 2.3266666666666667|                   6.98|        2.3266666666666667|             1|1.487580013053083...|depilflax|    Low-Recency|   High-Frequency|       Low-Value|\n",
      "|5.72556155E8|        1|   1275|              53.17|                  53.17|                     53.17|             1|1.487580006350586...| jessnail|    Low-Recency|    Low-Frequency|    Medium-Value|\n",
      "| 5.7311298E8|        1|   1274|              53.81|                  53.81|                     53.81|             1|1.487580006350586...|  polarus|    Low-Recency|    Low-Frequency|    Medium-Value|\n",
      "| 4.2302953E8|        2|   1267|             58.015|                 116.03|                    58.015|             1|1.487580006350586...|      max|    Low-Recency| Medium-Frequency|      High-Value|\n",
      "| 4.2302953E8|        2|   1267|             58.015|                 116.03|                    58.015|             1|1.487580006350586...|      max|    Low-Recency| Medium-Frequency|      High-Value|\n",
      "| 4.2302953E8|        2|   1267|             58.015|                 116.03|                    58.015|             1|2.193074740686488...|    irisk|    Low-Recency| Medium-Frequency|      High-Value|\n",
      "| 4.2302953E8|        2|   1267|             58.015|                 116.03|                    58.015|             1|2.193074740686488...|    irisk|    Low-Recency| Medium-Frequency|      High-Value|\n",
      "|4.08795242E8|        7|   1220|              84.63|                 592.41|                     84.63|             7|1.487580006350586...|  polarus| Medium-Recency|   High-Frequency|      High-Value|\n",
      "|4.08795242E8|        7|   1220|              84.63|                 592.41|                     84.63|             7|1.487580006350586...|  polarus| Medium-Recency|   High-Frequency|      High-Value|\n",
      "|4.08795242E8|        7|   1220|              84.63|                 592.41|                     84.63|             7|1.487580006350586...|  polarus| Medium-Recency|   High-Frequency|      High-Value|\n",
      "+------------+---------+-------+-------------------+-----------------------+--------------------------+--------------+--------------------+---------+---------------+-----------------+----------------+\n",
      "only showing top 20 rows\n",
      "\n"
     ]
    }
   ],
   "source": [
    "from pyspark.sql.functions import when, col\n",
    "from pyspark.sql.window import Window\n",
    "\n",
    "# Quartiles for Recency, Frequency, and Monetary Value\n",
    "recency_quartiles = segmentation_df.approxQuantile(\"recency\", [0.25, 0.5, 0.75], 0.0)\n",
    "frequency_quartiles = segmentation_df.approxQuantile(\"frequency\", [0.25, 0.5, 0.75], 0.0)\n",
    "monetary_quartiles = segmentation_df.approxQuantile(\"customer_lifetime_value\", [0.25, 0.5, 0.75], 0.0)\n",
    "\n",
    "# Assign segment labels based on quartile values\n",
    "segmentation_df = segmentation_df.withColumn(\"recency_segment\",\n",
    "    when(col(\"recency\") <= recency_quartiles[0], \"High-Recency\")\n",
    "    .when(col(\"recency\") <= recency_quartiles[1], \"Medium-Recency\")\n",
    "    .otherwise(\"Low-Recency\")\n",
    ")\n",
    "\n",
    "segmentation_df = segmentation_df.withColumn(\"frequency_segment\",\n",
    "    when(col(\"frequency\") <= frequency_quartiles[0], \"Low-Frequency\")\n",
    "    .when(col(\"frequency\") <= frequency_quartiles[1], \"Medium-Frequency\")\n",
    "    .otherwise(\"High-Frequency\")\n",
    ")\n",
    "\n",
    "segmentation_df = segmentation_df.withColumn(\"monetary_segment\",\n",
    "    when(col(\"customer_lifetime_value\") <= monetary_quartiles[0], \"Low-Value\")\n",
    "    .when(col(\"customer_lifetime_value\") <= monetary_quartiles[1], \"Medium-Value\")\n",
    "    .otherwise(\"High-Value\")\n",
    ")\n",
    "\n",
    "# Showing resulting segmentation DataFrame with RFM segments\n",
    "segmentation_df.show()\n"
   ]
  },
  {
   "cell_type": "code",
   "execution_count": 70,
   "id": "039adb99",
   "metadata": {},
   "outputs": [
    {
     "data": {
      "image/png": "[encoded data removed]",
      "text/plain": [
       "<Figure size 720x432 with 1 Axes>"
      ]
     },
     "metadata": {
      "needs_background": "light"
     },
     "output_type": "display_data"
    }
   ],
   "source": [
    "import matplotlib.pyplot as plt\n",
    "\n",
    "rfm_counts = segmentation_df.groupby(\"recency_segment\", \"frequency_segment\", \"monetary_segment\").count().toPandas()\n",
    "\n",
    "fig, ax = plt.subplots(figsize=(10, 6))\n",
    "rfm_counts.plot(kind=\"bar\", stacked=True, ax=ax)\n",
    "\n",
    "ax.set_xlabel(\"RFM Segments\")\n",
    "ax.set_ylabel(\"Number of Customers\")\n",
    "ax.set_title(\"RFM Segmentation\")\n",
    "\n",
    "# Show the plot\n",
    "plt.show()\n"
   ]
  },
  {
   "cell_type": "code",
   "execution_count": 71,
   "id": "8feef08d",
   "metadata": {},
   "outputs": [
    {
     "data": {
      "image/png": "[encoded data removed]",
      "text/plain": [
       "<Figure size 576x432 with 1 Axes>"
      ]
     },
     "metadata": {
      "needs_background": "light"
     },
     "output_type": "display_data"
    }
   ],
   "source": [
    "recency_counts = segmentation_df.groupby(\"recency_segment\").count().toPandas()\n",
    "\n",
    "# Plot the distribution of customers within Recency segments\n",
    "plt.figure(figsize=(8, 6))\n",
    "plt.bar(recency_counts[\"recency_segment\"], recency_counts[\"count\"])\n",
    "plt.xlabel(\"Recency Segment\")\n",
    "plt.ylabel(\"Number of Customers\")\n",
    "plt.title(\"Distribution of Customers by Recency Segment\")\n",
    "plt.show()"
   ]
  },
  {
   "cell_type": "code",
   "execution_count": 73,
   "id": "e021e469",
   "metadata": {},
   "outputs": [
    {
     "data": {
      "image/png": "[encoded data removed]",
      "text/plain": [
       "<Figure size 576x432 with 1 Axes>"
      ]
     },
     "metadata": {
      "needs_background": "light"
     },
     "output_type": "display_data"
    }
   ],
   "source": [
    "# Plot the distribution of customers within Frequency segments\n",
    "frequency_counts = segmentation_df.groupby(\"frequency_segment\").count().toPandas()\n",
    "\n",
    "plt.figure(figsize=(8, 6))\n",
    "plt.bar(frequency_counts[\"frequency_segment\"], frequency_counts[\"count\"])\n",
    "plt.xlabel(\"Frequency Segment\")\n",
    "plt.ylabel(\"Number of Customers\")\n",
    "plt.title(\"Distribution of Customers by Frequency Segment\")\n",
    "plt.show()"
   ]
  },
  {
   "cell_type": "code",
   "execution_count": 74,
   "id": "e95410d7",
   "metadata": {},
   "outputs": [
    {
     "data": {
      "image/png": "[encoded data removed]",
      "text/plain": [
       "<Figure size 576x432 with 1 Axes>"
      ]
     },
     "metadata": {
      "needs_background": "light"
     },
     "output_type": "display_data"
    }
   ],
   "source": [
    "monetary_counts = segmentation_df.groupby(\"monetary_segment\").count().toPandas()\n",
    "\n",
    "# Plot the distribution of customers within Monetary segments\n",
    "plt.figure(figsize=(8, 6))\n",
    "plt.bar(monetary_counts[\"monetary_segment\"], monetary_counts[\"count\"])\n",
    "plt.xlabel(\"Monetary Segment\")\n",
    "plt.ylabel(\"Number of Customers\")\n",
    "plt.title(\"Distribution of Customers by Monetary Segment\")\n",
    "plt.show()\n"
   ]
  },
  {
   "cell_type": "code",
   "execution_count": 78,
   "id": "af3894fb",
   "metadata": {},
   "outputs": [
    {
     "name": "stdout",
     "output_type": "stream",
     "text": [
      "+---------+-------+-------------------+--------------------+----------+\n",
      "|frequency|recency|average_order_value|            features|prediction|\n",
      "+---------+-------+-------------------+--------------------+----------+\n",
      "|        1|   1322|               9.52|   [1.0,1322.0,9.52]|         3|\n",
      "|        2|   1297|               3.65|   [2.0,1297.0,3.65]|         3|\n",
      "|        2|   1297|               3.65|   [2.0,1297.0,3.65]|         3|\n",
      "|        1|   1296|              94.44|  [1.0,1296.0,94.44]|         1|\n",
      "|        1|   1295|             150.79| [1.0,1295.0,150.79]|         1|\n",
      "|        3|   1288| 2.3266666666666667|[3.0,1288.0,2.326...|         3|\n",
      "|        3|   1288| 2.3266666666666667|[3.0,1288.0,2.326...|         3|\n",
      "|        3|   1288| 2.3266666666666667|[3.0,1288.0,2.326...|         3|\n",
      "|        3|   1288| 2.3266666666666667|[3.0,1288.0,2.326...|         3|\n",
      "|        3|   1288| 2.3266666666666667|[3.0,1288.0,2.326...|         3|\n",
      "|        3|   1288| 2.3266666666666667|[3.0,1288.0,2.326...|         3|\n",
      "|        1|   1275|              53.17|  [1.0,1275.0,53.17]|         1|\n",
      "|        1|   1274|              53.81|  [1.0,1274.0,53.81]|         1|\n",
      "|        2|   1267|             58.015| [2.0,1267.0,58.015]|         1|\n",
      "|        2|   1267|             58.015| [2.0,1267.0,58.015]|         1|\n",
      "|        2|   1267|             58.015| [2.0,1267.0,58.015]|         1|\n",
      "|        2|   1267|             58.015| [2.0,1267.0,58.015]|         1|\n",
      "|        7|   1220|              84.63|  [7.0,1220.0,84.63]|         0|\n",
      "|        7|   1220|              84.63|  [7.0,1220.0,84.63]|         0|\n",
      "|        7|   1220|              84.63|  [7.0,1220.0,84.63]|         0|\n",
      "+---------+-------+-------------------+--------------------+----------+\n",
      "only showing top 20 rows\n",
      "\n"
     ]
    }
   ],
   "source": [
    "from pyspark.ml.feature import VectorAssembler\n",
    "from pyspark.ml.clustering import KMeans\n",
    "\n",
    "clustering_df = segmentation_df.select(\"frequency\", \"recency\", \"average_order_value\")\n",
    "\n",
    "assembler = VectorAssembler(inputCols=clustering_df.columns, outputCol=\"features\")\n",
    "feature_vector = assembler.transform(clustering_df)\n",
    "\n",
    "kmeans = KMeans(k=4, seed=42)\n",
    "model = kmeans.fit(feature_vector)\n",
    "\n",
    "segmentation_results = model.transform(feature_vector)\n",
    "\n",
    "segmentation_results.show()\n"
   ]
  },
  {
   "cell_type": "code",
   "execution_count": 80,
   "id": "1dda026e",
   "metadata": {},
   "outputs": [
    {
     "data": {
      "image/png": "[encoded data removed]",
      "text/plain": [
       "<Figure size 576x432 with 1 Axes>"
      ]
     },
     "metadata": {
      "needs_background": "light"
     },
     "output_type": "display_data"
    }
   ],
   "source": [
    "import pandas as pd\n",
    "import matplotlib.pyplot as plt\n",
    "\n",
    "pandas_df = segmentation_results.toPandas()\n",
    "\n",
    "cluster_labels = pandas_df[\"prediction\"]\n",
    "frequency_values = pandas_df[\"frequency\"]\n",
    "recency_values = pandas_df[\"recency\"]\n",
    "\n",
    "plt.figure(figsize=(8, 6))\n",
    "plt.scatter(frequency_values, recency_values, c=cluster_labels, cmap=\"viridis\")\n",
    "plt.xlabel(\"Frequency\")\n",
    "plt.ylabel(\"Recency\")\n",
    "plt.title(\"Customer Segmentation Clusters\")\n",
    "plt.show()\n"
   ]
  },
  {
   "cell_type": "code",
   "execution_count": null,
   "id": "ad62b42c",
   "metadata": {},
   "outputs": [],
   "source": []
  }
 ],
 "metadata": {
  "kernelspec": {
   "display_name": "Python 3 (ipykernel)",
   "language": "python",
   "name": "python3"
  },
  "language_info": {
   "codemirror_mode": {
    "name": "ipython",
    "version": 3
   },
   "file_extension": ".py",
   "mimetype": "text/x-python",
   "name": "python",
   "nbconvert_exporter": "python",
   "pygments_lexer": "ipython3",
   "version": "3.9.12"
  }
 },
 "nbformat": 4,
 "nbformat_minor": 5
}
